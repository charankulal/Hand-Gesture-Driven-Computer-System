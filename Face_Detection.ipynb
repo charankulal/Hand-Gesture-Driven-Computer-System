{
 "cells": [
  {
   "cell_type": "code",
   "execution_count": null,
   "metadata": {},
   "outputs": [],
   "source": [
    "import cv2"
   ]
  },
  {
   "cell_type": "code",
   "execution_count": null,
   "metadata": {},
   "outputs": [],
   "source": [
    "#  Code for enabling camera and face detection using opencv\n",
    "\n",
    "\n",
    "face_cap = cv2.CascadeClassifier(\n",
    "    \"D:\\\\PROJECTS\\\\Hand Tracking\\\\.venv\\\\Lib\\\\site-packages\\\\cv2\\\\data\\\\haarcascade_frontalface_default.xml\")\n",
    "video_cap = cv2.VideoCapture(0)\n",
    "while True:\n",
    "    ret, video_data = video_cap.read()\n",
    "    col = cv2.cvtColor(video_data, cv2.COLOR_BGR2GRAY)\n",
    "    faces = face_cap.detectMultiScale(\n",
    "        col,\n",
    "        scaleFactor=1.1,\n",
    "        minNeighbors=5,\n",
    "        minSize=(30, 30),\n",
    "        flags=cv2.CASCADE_SCALE_IMAGE\n",
    "    )\n",
    "    for (x,y,w,h) in faces:\n",
    "        cv2.rectangle(video_data,(x,y),(x+w,y+h),(0,255,0),2)\n",
    "    cv2.imshow(\"Video_Live\", video_data)\n",
    "\n",
    "    if cv2.waitKey(10) == ord(\"a\"):\n",
    "        break\n",
    "\n",
    "video_cap.release()\n"
   ]
  },
  {
   "cell_type": "code",
   "execution_count": 1,
   "metadata": {},
   "outputs": [
    {
     "name": "stdout",
     "output_type": "stream",
     "text": [
      "WARNING:tensorflow:From d:\\PROJECTS\\Hand Tracking\\.venv\\Lib\\site-packages\\tf_keras\\src\\losses.py:2976: The name tf.losses.sparse_softmax_cross_entropy is deprecated. Please use tf.compat.v1.losses.sparse_softmax_cross_entropy instead.\n",
      "\n",
      "24-04-14 12:46:57 - vgg_face_weights.h5 will be downloaded...\n",
      "24-04-14 12:46:59 - vgg_face_weights.h5 will be downloaded...\n"
     ]
    },
    {
     "name": "stderr",
     "output_type": "stream",
     "text": [
      "Downloading...\n",
      "From: https://github.com/serengil/deepface_models/releases/download/v1.0/vgg_face_weights.h5\n",
      "To: C:\\Users\\Charan\\.deepface\\weights\\vgg_face_weights.h5\n",
      "  0%|          | 0.00/580M [00:00<?, ?B/s]Downloading...\n",
      "From: https://github.com/serengil/deepface_models/releases/download/v1.0/vgg_face_weights.h5\n",
      "To: C:\\Users\\Charan\\.deepface\\weights\\vgg_face_weights.h5\n",
      "  0%|          | 524k/580M [00:02<48:48, 198kB/s]"
     ]
    },
    {
     "name": "stdout",
     "output_type": "stream",
     "text": [
      "24-04-14 12:47:03 - vgg_face_weights.h5 will be downloaded...\n"
     ]
    },
    {
     "name": "stderr",
     "output_type": "stream",
     "text": [
      "  0%|          | 1.05M/580M [00:07<1:10:59, 136kB/s]"
     ]
    },
    {
     "name": "stdout",
     "output_type": "stream",
     "text": [
      "24-04-14 12:47:07 - vgg_face_weights.h5 will be downloaded...\n"
     ]
    },
    {
     "name": "stderr",
     "output_type": "stream",
     "text": [
      "  0%|          | 1.57M/580M [00:11<1:15:30, 128kB/s]Downloading...\n",
      "From: https://github.com/serengil/deepface_models/releases/download/v1.0/vgg_face_weights.h5\n",
      "To: C:\\Users\\Charan\\.deepface\\weights\\vgg_face_weights.h5\n",
      "\n",
      "  0%|          | 2.10M/580M [00:16<1:21:56, 118kB/s]Downloading...\n",
      "\n",
      "\n",
      "From: https://github.com/serengil/deepface_models/releases/download/v1.0/vgg_face_weights.h5\n",
      "  0%|          | 2.62M/580M [00:23<1:34:35, 102kB/s]ts.h5\u001b[A\n",
      "\n",
      "\u001b[A\u001b[A\n",
      "\u001b[A"
     ]
    },
    {
     "name": "stdout",
     "output_type": "stream",
     "text": [
      "24-04-14 12:47:27 - vgg_face_weights.h5 will be downloaded...\n"
     ]
    },
    {
     "name": "stderr",
     "output_type": "stream",
     "text": [
      "  1%|          | 3.15M/580M [00:29<1:41:17, 94.9kB/s]\n",
      "\n"
     ]
    },
    {
     "name": "stdout",
     "output_type": "stream",
     "text": [
      "24-04-14 12:47:35 - vgg_face_weights.h5 will be downloaded...\n"
     ]
    },
    {
     "name": "stderr",
     "output_type": "stream",
     "text": [
      "  0%|          | 1.57M/580M [00:22<2:16:21, 70.7kB/s]\u001b[A\u001b[A\n",
      "\u001b[A\n",
      "\n",
      "  1%|          | 3.67M/580M [00:37<1:54:02, 84.2kB/s]\n",
      "\u001b[A"
     ]
    },
    {
     "name": "stdout",
     "output_type": "stream",
     "text": [
      "24-04-14 12:47:38 - vgg_face_weights.h5 will be downloaded...\n"
     ]
    },
    {
     "name": "stderr",
     "output_type": "stream",
     "text": [
      "Exception in thread Thread-15 (check_face):\n",
      "Traceback (most recent call last):\n",
      "  File \"d:\\PROJECTS\\Hand Tracking\\.venv\\Lib\\site-packages\\urllib3\\connectionpool.py\", line 790, in urlopen\n",
      "\n",
      "\n",
      "\n"
     ]
    }
   ],
   "source": [
    "# Face recognition\n",
    "\n",
    "# Libraries\n",
    "import face_recognition as fr\n",
    "import cv2\n",
    "import threading\n",
    "from deepface import DeepFace\n",
    "\n",
    "cap = cv2.VideoCapture(0, cv2.CAP_DSHOW)\n",
    "cap.set(cv2.CAP_PROP_FRAME_WIDTH, 640)\n",
    "cap.set(cv2.CAP_PROP_FRAME_HEIGHT, 480)\n",
    "\n",
    "counter = 0\n",
    "face_match = False\n",
    "\n",
    "reference_img = cv2.imread(\"sample1.jpg\")\n",
    "\n",
    "\n",
    "def check_face(frame):\n",
    "    global face_match\n",
    "    try:\n",
    "        if DeepFace.verify(frame, reference_img.copy())['verified']:\n",
    "            face_match=True\n",
    "        else:\n",
    "            face_match=False\n",
    "            \n",
    "    except ValueError:\n",
    "        face_match=False\n",
    "\n",
    "\n",
    "while True:\n",
    "    ret, frame = cap.read()\n",
    "\n",
    "    if ret:\n",
    "        if counter % 30 == 0:\n",
    "            try:\n",
    "                threading.Thread(target=check_face,\n",
    "                                 args=(frame.copy(),)).start()\n",
    "            except ValueError:\n",
    "                pass\n",
    "\n",
    "        counter += 1\n",
    "\n",
    "        if face_match:\n",
    "            cv2.putText(frame, \"Match!!\", (20, 450),\n",
    "                        cv2.FONT_HERSHEY_SIMPLEX, 2, (0, 255, 0), 3)\n",
    "            \n",
    "        else:\n",
    "            cv2.putText(frame, \"Not Matched!!\", (20, 450),\n",
    "                        cv2.FONT_HERSHEY_SIMPLEX, 2, (0, 255, 0), 3)\n",
    "            \n",
    "        cv2.imshow(\"Video\",frame)\n",
    "\n",
    "    key = cv2.waitKey(1)\n",
    "    if key == ord(\"q\"):\n",
    "        break\n",
    "\n",
    "\n",
    "cv2.destroyAllWindows()"
   ]
  }
 ],
 "metadata": {
  "kernelspec": {
   "display_name": ".venv",
   "language": "python",
   "name": "python3"
  },
  "language_info": {
   "codemirror_mode": {
    "name": "ipython",
    "version": 3
   },
   "file_extension": ".py",
   "mimetype": "text/x-python",
   "name": "python",
   "nbconvert_exporter": "python",
   "pygments_lexer": "ipython3",
   "version": "3.11.0"
  }
 },
 "nbformat": 4,
 "nbformat_minor": 2
}
