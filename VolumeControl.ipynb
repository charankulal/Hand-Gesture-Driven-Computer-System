{
 "cells": [
  {
   "cell_type": "code",
   "execution_count": 5,
   "metadata": {},
   "outputs": [],
   "source": [
    "import cv2\n",
    "import time\n",
    "import numpy as np\n",
    "import HandTrackingModule as htm\n",
    "import math"
   ]
  },
  {
   "cell_type": "code",
   "execution_count": 7,
   "metadata": {},
   "outputs": [
    {
     "ename": "KeyboardInterrupt",
     "evalue": "",
     "output_type": "error",
     "traceback": [
      "\u001b[1;31m---------------------------------------------------------------------------\u001b[0m",
      "\u001b[1;31mKeyboardInterrupt\u001b[0m                         Traceback (most recent call last)",
      "\u001b[1;32md:\\PROJECTS\\Hand Tracking\\VolumeControl.ipynb Cell 2\u001b[0m line \u001b[0;36m1\n\u001b[0;32m     <a href='vscode-notebook-cell:/d%3A/PROJECTS/Hand%20Tracking/VolumeControl.ipynb#W1sZmlsZQ%3D%3D?line=11'>12</a>\u001b[0m success, img \u001b[39m=\u001b[39m cap\u001b[39m.\u001b[39mread()\n\u001b[0;32m     <a href='vscode-notebook-cell:/d%3A/PROJECTS/Hand%20Tracking/VolumeControl.ipynb#W1sZmlsZQ%3D%3D?line=12'>13</a>\u001b[0m img \u001b[39m=\u001b[39m cv2\u001b[39m.\u001b[39mflip(img, \u001b[39m1\u001b[39m)  \u001b[39m# Flipping is needed to create mirroring\u001b[39;00m\n\u001b[1;32m---> <a href='vscode-notebook-cell:/d%3A/PROJECTS/Hand%20Tracking/VolumeControl.ipynb#W1sZmlsZQ%3D%3D?line=13'>14</a>\u001b[0m detector\u001b[39m.\u001b[39;49mfindHands(img)\n\u001b[0;32m     <a href='vscode-notebook-cell:/d%3A/PROJECTS/Hand%20Tracking/VolumeControl.ipynb#W1sZmlsZQ%3D%3D?line=14'>15</a>\u001b[0m lmList \u001b[39m=\u001b[39m detector\u001b[39m.\u001b[39mfindPosition(img, draw\u001b[39m=\u001b[39m\u001b[39mFalse\u001b[39;00m)\n\u001b[0;32m     <a href='vscode-notebook-cell:/d%3A/PROJECTS/Hand%20Tracking/VolumeControl.ipynb#W1sZmlsZQ%3D%3D?line=15'>16</a>\u001b[0m \u001b[39mif\u001b[39;00m \u001b[39mlen\u001b[39m(lmList) \u001b[39m!=\u001b[39m \u001b[39m0\u001b[39m:\n\u001b[0;32m     <a href='vscode-notebook-cell:/d%3A/PROJECTS/Hand%20Tracking/VolumeControl.ipynb#W1sZmlsZQ%3D%3D?line=16'>17</a>\u001b[0m     \u001b[39m# print(lmList[4], lmList[8])\u001b[39;00m\n",
      "File \u001b[1;32md:\\PROJECTS\\Hand Tracking\\HandTrackingModule.py:18\u001b[0m, in \u001b[0;36mHandDetector.findHands\u001b[1;34m(self, img, draw)\u001b[0m\n\u001b[0;32m     16\u001b[0m \u001b[39mdef\u001b[39;00m \u001b[39mfindHands\u001b[39m(\u001b[39mself\u001b[39m,img,draw\u001b[39m=\u001b[39m\u001b[39mTrue\u001b[39;00m):\n\u001b[0;32m     17\u001b[0m     imgRGB\u001b[39m=\u001b[39mcv2\u001b[39m.\u001b[39mcvtColor(img,cv2\u001b[39m.\u001b[39mCOLOR_BGR2RGB)\n\u001b[1;32m---> 18\u001b[0m     \u001b[39mself\u001b[39m\u001b[39m.\u001b[39mresults\u001b[39m=\u001b[39m\u001b[39mself\u001b[39;49m\u001b[39m.\u001b[39;49mhands\u001b[39m.\u001b[39;49mprocess(imgRGB)\n\u001b[0;32m     19\u001b[0m     \u001b[39mif\u001b[39;00m \u001b[39mself\u001b[39m\u001b[39m.\u001b[39mresults\u001b[39m.\u001b[39mmulti_hand_landmarks :\n\u001b[0;32m     20\u001b[0m         \u001b[39mfor\u001b[39;00m handLms \u001b[39min\u001b[39;00m \u001b[39mself\u001b[39m\u001b[39m.\u001b[39mresults\u001b[39m.\u001b[39mmulti_hand_landmarks:\n",
      "File \u001b[1;32md:\\PROJECTS\\Hand Tracking\\.venv\\Lib\\site-packages\\mediapipe\\python\\solutions\\hands.py:153\u001b[0m, in \u001b[0;36mHands.process\u001b[1;34m(self, image)\u001b[0m\n\u001b[0;32m    132\u001b[0m \u001b[39mdef\u001b[39;00m \u001b[39mprocess\u001b[39m(\u001b[39mself\u001b[39m, image: np\u001b[39m.\u001b[39mndarray) \u001b[39m-\u001b[39m\u001b[39m>\u001b[39m NamedTuple:\n\u001b[0;32m    133\u001b[0m \u001b[39m  \u001b[39m\u001b[39m\"\"\"Processes an RGB image and returns the hand landmarks and handedness of each detected hand.\u001b[39;00m\n\u001b[0;32m    134\u001b[0m \n\u001b[0;32m    135\u001b[0m \u001b[39m  Args:\u001b[39;00m\n\u001b[1;32m   (...)\u001b[0m\n\u001b[0;32m    150\u001b[0m \u001b[39m         right hand) of the detected hand.\u001b[39;00m\n\u001b[0;32m    151\u001b[0m \u001b[39m  \"\"\"\u001b[39;00m\n\u001b[1;32m--> 153\u001b[0m   \u001b[39mreturn\u001b[39;00m \u001b[39msuper\u001b[39;49m()\u001b[39m.\u001b[39;49mprocess(input_data\u001b[39m=\u001b[39;49m{\u001b[39m'\u001b[39;49m\u001b[39mimage\u001b[39;49m\u001b[39m'\u001b[39;49m: image})\n",
      "File \u001b[1;32md:\\PROJECTS\\Hand Tracking\\.venv\\Lib\\site-packages\\mediapipe\\python\\solution_base.py:362\u001b[0m, in \u001b[0;36mSolutionBase.process\u001b[1;34m(self, input_data)\u001b[0m\n\u001b[0;32m    360\u001b[0m   \u001b[39mif\u001b[39;00m data\u001b[39m.\u001b[39mshape[\u001b[39m2\u001b[39m] \u001b[39m!=\u001b[39m RGB_CHANNELS:\n\u001b[0;32m    361\u001b[0m     \u001b[39mraise\u001b[39;00m \u001b[39mValueError\u001b[39;00m(\u001b[39m'\u001b[39m\u001b[39mInput image must contain three channel rgb data.\u001b[39m\u001b[39m'\u001b[39m)\n\u001b[1;32m--> 362\u001b[0m   \u001b[39mself\u001b[39;49m\u001b[39m.\u001b[39;49m_graph\u001b[39m.\u001b[39;49madd_packet_to_input_stream(\n\u001b[0;32m    363\u001b[0m       stream\u001b[39m=\u001b[39;49mstream_name,\n\u001b[0;32m    364\u001b[0m       packet\u001b[39m=\u001b[39;49m\u001b[39mself\u001b[39;49m\u001b[39m.\u001b[39;49m_make_packet(input_stream_type,\n\u001b[0;32m    365\u001b[0m                                data)\u001b[39m.\u001b[39;49mat(\u001b[39mself\u001b[39;49m\u001b[39m.\u001b[39;49m_simulated_timestamp))\n\u001b[0;32m    366\u001b[0m \u001b[39melse\u001b[39;00m:\n\u001b[0;32m    367\u001b[0m   \u001b[39mself\u001b[39m\u001b[39m.\u001b[39m_graph\u001b[39m.\u001b[39madd_packet_to_input_stream(\n\u001b[0;32m    368\u001b[0m       stream\u001b[39m=\u001b[39mstream_name,\n\u001b[0;32m    369\u001b[0m       packet\u001b[39m=\u001b[39m\u001b[39mself\u001b[39m\u001b[39m.\u001b[39m_make_packet(input_stream_type,\n\u001b[0;32m    370\u001b[0m                                data)\u001b[39m.\u001b[39mat(\u001b[39mself\u001b[39m\u001b[39m.\u001b[39m_simulated_timestamp))\n",
      "\u001b[1;31mKeyboardInterrupt\u001b[0m: "
     ]
    }
   ],
   "source": [
    "wCam, hCam = 640, 480\n",
    "\n",
    "cap = cv2.VideoCapture(0)\n",
    "cap.set(3, wCam)\n",
    "cap.set(4, hCam)\n",
    "pTime = 0\n",
    "\n",
    "detector = htm.HandDetector()\n",
    "\n",
    "\n",
    "while True:\n",
    "    success, img = cap.read()\n",
    "    img = cv2.flip(img, 1)  # Flipping is needed to create mirroring\n",
    "    detector.findHands(img)\n",
    "    lmList = detector.findPosition(img, draw=False)\n",
    "    if len(lmList) != 0:\n",
    "        # print(lmList[4], lmList[8])\n",
    "        x1, y1 = lmList[4][1], lmList[4][2]\n",
    "        x2, y2 = lmList[8][1], lmList[8][2]\n",
    "        cx,cy=(x1+x2)//2,(y1+y2)//2\n",
    "        cv2.circle(img, (x1, y1), 8, (255, 0, 255), cv2.FILLED)\n",
    "        cv2.circle(img, (x2, y2), 8, (255, 0, 255), cv2.FILLED)\n",
    "        cv2.line(img, (x1, y1), (x2, y2), (255, 0, 255), 2)\n",
    "        cv2.circle(img, (cx, cy), 8, (255, 0, 255), cv2.FILLED)\n",
    "        \n",
    "        length=math.hypot(x2-x1,y2-y1)\n",
    "        # print(length)\n",
    "        # if length<50:\n",
    "        #     cv2.circle(img, (cx, cy), 8, (0, 0, 255), cv2.FILLED)\n",
    "\n",
    "    cTime = time.time()\n",
    "    fps = 1/(cTime-pTime)\n",
    "    pTime = cTime\n",
    "\n",
    "    cv2.putText(img, f'FPS:{int(fps)}', (48, 70),\n",
    "                cv2.FONT_HERSHEY_PLAIN, 2, (255, 0, 0), 3)\n",
    "    cv2.imshow(\"Image\", img)\n",
    "    cv2.waitKey(1)"
   ]
  }
 ],
 "metadata": {
  "kernelspec": {
   "display_name": ".venv",
   "language": "python",
   "name": "python3"
  },
  "language_info": {
   "codemirror_mode": {
    "name": "ipython",
    "version": 3
   },
   "file_extension": ".py",
   "mimetype": "text/x-python",
   "name": "python",
   "nbconvert_exporter": "python",
   "pygments_lexer": "ipython3",
   "version": "3.11.0"
  }
 },
 "nbformat": 4,
 "nbformat_minor": 2
}
